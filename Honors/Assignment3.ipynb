{
 "cells": [
  {
   "cell_type": "markdown",
   "metadata": {},
   "source": [
    "# CSE 4303 Computer Graphics\n",
    "\n",
    "## Honors Project\n",
    "\n",
    "### Swangya Saurav\n",
    "\n",
    "## Assignment 3\n",
    "\n",
    "**Task : ** Parallel Projection Mapping"
   ]
  },
  {
   "cell_type": "markdown",
   "metadata": {},
   "source": [
    "********\n",
    "#### Importing important libraries\n",
    "\n",
    "#### Import File Details\n",
    "* **ipwidgets** - Used for creating dtnamic interaction widgets\n",
    "* **IPython.display** - Used to display widgets\n",
    "* **matplotlib** - Used to plot the graphic object\n",
    "* **numpy** - Used for calculations"
   ]
  },
  {
   "cell_type": "code",
   "execution_count": 1,
   "metadata": {
    "collapsed": true
   },
   "outputs": [],
   "source": [
    "import ipywidgets as widgets\n",
    "from IPython.display import display\n",
    "from __future__ import print_function\n",
    "from ipywidgets import interact, interactive, fixed, interact_manual\n",
    "\n",
    "import matplotlib.pyplot as plt\n",
    "import matplotlib.patches as patches\n",
    "import matplotlib.lines as mlines\n",
    "\n",
    "from matplotlib.patches import Rectangle\n",
    "import numpy as np\n"
   ]
  },
  {
   "cell_type": "markdown",
   "metadata": {},
   "source": [
    "#### Function: getFiledata\n",
    "This function is used to get the file name the user selected and then extract the data from that file into a python list."
   ]
  },
  {
   "cell_type": "code",
   "execution_count": 2,
   "metadata": {},
   "outputs": [
    {
     "data": {
      "application/vnd.jupyter.widget-view+json": {
       "model_id": "3c5666fe194d4aa4ac3dd95c567f9341"
      }
     },
     "metadata": {},
     "output_type": "display_data"
    }
   ],
   "source": [
    "def getFiledata(filename):\n",
    "    a =[]\n",
    "    with open(filename) as textFile:\n",
    "        a = [line.split() for line in textFile]\n",
    "    list = [x for x in a if x != []]\n",
    "    lines = list\n",
    "    return list\n",
    "\n",
    "w = interact_manual(getFiledata, filename = widgets.RadioButtons(options=[\"pyramid.txt\", \"cow.txt\", \"teapot.txt\"]))"
   ]
  },
  {
   "cell_type": "markdown",
   "metadata": {},
   "source": [
    "#### Function: create_vertex_list\n",
    "This function extracts the list of points in the graphic object.\n",
    "it is to be noted that the vertex data in the data set is marked by a 'v' at the start of each line and this function takes advantage of that information"
   ]
  },
  {
   "cell_type": "code",
   "execution_count": 3,
   "metadata": {
    "collapsed": true
   },
   "outputs": [],
   "source": [
    "def create_vertex_list(data):\n",
    "    vertex_list = []\n",
    "    for element in data:\n",
    "        if element[0] == 'v':\n",
    "            vertex_list.append([float(element[1]), float(element[2]), float(element[3]), 1])\n",
    "    return vertex_list"
   ]
  },
  {
   "cell_type": "markdown",
   "metadata": {},
   "source": [
    "#### Function: create_edge_list\n",
    "This function extracts the list of connection between points in the graphic object.\n",
    "it is to be noted that the relation data in the data set is marked by a 'f' at the start of each line and this function takes advantage of that information"
   ]
  },
  {
   "cell_type": "code",
   "execution_count": 4,
   "metadata": {
    "collapsed": true
   },
   "outputs": [],
   "source": [
    "def create_edge_list(data):\n",
    "    edge_list = []\n",
    "    for element in data:\n",
    "        if element[0] == 'f':\n",
    "            edge_list.append([float(element[1]), float(element[2]), float(element[3])])\n",
    "    return edge_list"
   ]
  },
  {
   "cell_type": "markdown",
   "metadata": {},
   "source": [
    "#### Function: get_viewport\n",
    "This function extracts the viewport dimensions\n",
    "it is to be noted that this dimension in the data set is marked by a 's' at the start of each line and this function takes advantage of that information"
   ]
  },
  {
   "cell_type": "code",
   "execution_count": 5,
   "metadata": {
    "collapsed": true
   },
   "outputs": [],
   "source": [
    "def get_viewport(data):\n",
    "    view_dimension = []\n",
    "    for element in data:\n",
    "        if element[0] == 's':\n",
    "            dimension = element\n",
    "            break\n",
    "    view_dimension = [float(dimension[1]),float(dimension[2]), float(dimension[3]), float(dimension[4])]\n",
    "    return view_dimension"
   ]
  },
  {
   "cell_type": "markdown",
   "metadata": {},
   "source": [
    "#### Function: get_window\n",
    "This function extracts the windows dimensions\n",
    "it is to be noted that this dimension in the data set is marked by a 'w' at the start of each line and this function takes advantage of that information"
   ]
  },
  {
   "cell_type": "code",
   "execution_count": 6,
   "metadata": {
    "collapsed": true
   },
   "outputs": [],
   "source": [
    "def get_window(data):\n",
    "    for element in data:\n",
    "        if element[0] == 'w':\n",
    "            dimension = element\n",
    "            break\n",
    "    window_dimension = [float(dimension[1]),float(dimension[3]), float(dimension[2]), float(dimension[4])]\n",
    "    return window_dimension"
   ]
  },
  {
   "cell_type": "markdown",
   "metadata": {},
   "source": [
    "## To Translate points\n",
    "### 3D Translation\n",
    "A point $P = \\left[ {\\matrix{ x  \\cr y \\cr z \\cr  1\\cr} } \\right]$ in 3D space can be translated (moved) by $d_x$ in the $x$ direction, $d_y$ in the $y$ direction, $d_z$ in the $z$ direction. The coordinates of the point after the translation will be: $P = \\left[ {\\matrix{ x+d_x  \\cr y+d_y  \\cr z+d_z \\cr} } \\right]$.\n",
    "\n",
    "The translation operation can be shown in matrix form as: $$\\left[ {\\matrix{\n",
    "   1 & 0 & 0 & d_x  \\cr \n",
    "   0 & 1 & 0 & d_y  \\cr\n",
    "   0 & 0 & 1 & d_z  \\cr\n",
    "   0 & 0 & 0 & 1    \\cr\n",
    " } } \\right]  \\left[ {\\matrix{\n",
    "   {x}  \\cr \n",
    "   {y}  \\cr\n",
    "   {z}  \\cr\n",
    "   {1}  \\cr\n",
    " } } \\right] = \\left[ {\\matrix{\n",
    "   {x+d_x}  \\cr \n",
    "   {y+d_y}  \\cr\n",
    "   {z+d_z}  \\cr\n",
    "       {1}  \\cr\n",
    " } } \\right]$$\n",
    " "
   ]
  },
  {
   "cell_type": "code",
   "execution_count": 7,
   "metadata": {},
   "outputs": [
    {
     "data": {
      "application/vnd.jupyter.widget-view+json": {
       "model_id": "989d3dda4cb64dc0a69e7f35851d0553"
      }
     },
     "metadata": {},
     "output_type": "display_data"
    }
   ],
   "source": [
    "def translation(dx, dy, dz, points):\n",
    "    translationMat = np.array([[1, 0, 0, dx], [0, 1, 0, dy], [0, 0, 1, dz], [0, 0, 0, 1]])\n",
    "    \n",
    "    pointMat = np.array(points)\n",
    "    pointMat = np.transpose(pointMat)\n",
    "    \n",
    "    pointMat = translationMat.dot(pointMat)\n",
    "    pointMat = np.transpose(pointMat)\n",
    "    \n",
    "    return pointMat.tolist()\n",
    "\n",
    "def translationExample(x, y, z):\n",
    "    fig1 = plt.figure()\n",
    "    ax1 = fig1.add_subplot(111, aspect='equal')\n",
    "    ax1.set_ylim([-10, 10])\n",
    "    ax1.set_xlim([-10, 10])\n",
    "    \n",
    "    points = [[0, 0, 0, 1], [5, 1, 0, 1], [3, 4, 0, 1]]\n",
    "    points = translation(x, y, z, points)\n",
    "    \n",
    "    xpoint = []\n",
    "    ypoint = []\n",
    "    for element in points:\n",
    "        xpoint.append(element[0])\n",
    "        ypoint.append(element[1])\n",
    "    xpoint.append(points[0][0])\n",
    "    ypoint.append(points[0][1])\n",
    "    plt.plot(xpoint, ypoint, linewidth=1)    \n",
    "    plt.gca().set_aspect('equal', adjustable='box')\n",
    "    plt.show()\n",
    "\n",
    "w = interact(translationExample, x = widgets.FloatSlider(value = 0.0, max=10.0, min = -10.0), y = widgets.FloatSlider(value = 0.0, max=10.0, min = -10.0), z = 0.0)"
   ]
  },
  {
   "cell_type": "markdown",
   "metadata": {},
   "source": [
    "## To Scale points\n",
    "### 3D Scaling\n",
    "\n",
    "A point $P = \\left[ {\\matrix{ x  \\cr y  \\cr  z \\cr} } \\right]$ in 3D space can be scaled by $s_x$ in the $x$ direction, $s_y$ in the $y$ direction, and $s_z$ in the $z$ direction. The coordinates of the point after the scaling will be: $P = \\left[ {\\matrix{s_x x  \\cr s_y  y  \\cr s_z  z  \\cr } } \\right]$.\n",
    "\n",
    "The Scaling operation can be shown in matrix form as: $$\\left[ {\\matrix{\n",
    "   s_x & 0 & 0 & 0  \\cr \n",
    "   0 & s_y & 0 & 0  \\cr\n",
    "   0 & 0 & s_z & 0  \\cr\n",
    "   0 & 0 & 0 & 1    \\cr\n",
    " } } \\right]  \\left[ {\\matrix{\n",
    "   {x}  \\cr \n",
    "   {y}  \\cr\n",
    "   {z}  \\cr\n",
    "   {1}  \\cr\n",
    " } } \\right] = \\left[ {\\matrix{\n",
    "   {s_x z}  \\cr \n",
    "   {s_y y}  \\cr\n",
    "   {s_z z}  \\cr\n",
    "       {1}  \\cr\n",
    " } } \\right]$$"
   ]
  },
  {
   "cell_type": "code",
   "execution_count": 8,
   "metadata": {},
   "outputs": [
    {
     "data": {
      "application/vnd.jupyter.widget-view+json": {
       "model_id": "64ebd303ca47423ab7f676b00400913a"
      }
     },
     "metadata": {},
     "output_type": "display_data"
    }
   ],
   "source": [
    "def scale(sx, sy, sz, points, scalePoint):\n",
    "    scaleMat = np.array([[sx, 0, 0, 0], [0, sy, 0, 0], [0, 0, sz, 0], [0, 0, 0, 1]])\n",
    "    points = translation(-float(scalePoint[0]), -float(scalePoint[1]), -float(scalePoint[2]), points)\n",
    "    pointMat = np.array(points)\n",
    "    pointMat = np.transpose(pointMat)\n",
    "    \n",
    "    pointMat = scaleMat.dot(pointMat)\n",
    "    pointMat = np.transpose(pointMat)\n",
    "    \n",
    "    points = translation(float(scalePoint[0]), float(scalePoint[1]), float(scalePoint[2]), points)\n",
    "    return pointMat.tolist()\n",
    "                         \n",
    "def scaleExample(x, y, z, scalePoint):\n",
    "    scalePoint = scalePoint.split()\n",
    "    fig1 = plt.figure()\n",
    "    ax1 = fig1.add_subplot(111, aspect='equal')\n",
    "    ax1.set_ylim([-10, 10])\n",
    "    ax1.set_xlim([-10, 10])\n",
    "    \n",
    "    points = [[0, 0, 0, 1], [5, 1, 0, 1], [3, 4, 0, 1]]\n",
    "    points = scale(x, y, z, points, scalePoint)\n",
    "    \n",
    "    xpoint = []\n",
    "    ypoint = []\n",
    "    for element in points:\n",
    "        xpoint.append(element[0])\n",
    "        ypoint.append(element[1])\n",
    "    xpoint.append(points[0][0])\n",
    "    ypoint.append(points[0][1])\n",
    "    plt.plot(xpoint, ypoint, linewidth=1)    \n",
    "    plt.gca().set_aspect('equal', adjustable='box')\n",
    "    plt.show()\n",
    "\n",
    "w = interact(scaleExample, x = widgets.FloatSlider(value = 1.0, max=2), y = widgets.FloatSlider(value = 1.0, max=2.0), z = 1.0, scalePoint = \"0 0 0\")"
   ]
  },
  {
   "cell_type": "markdown",
   "metadata": {},
   "source": [
    "## To Rotate points\n",
    "### 3D Rotation\n",
    "A point $P = \\left[ {\\matrix{ x  \\cr y  \\cr} } \\right]$ in 2D space can be rotated around the origin by $\\alpha$ degrees. \n",
    "\n",
    "Assuming that the positive rotation is counter-clockwise, The coordinates of the point after the rotation will be:\n",
    "$\\left[ {\\matrix{\n",
    "   {\\cos (\\alpha )x - \\sin (\\alpha )y}  \\cr \n",
    "   {\\sin (\\alpha ) + \\cos (\\alpha )y}  \\cr \n",
    " } } \\right]$\n",
    " \n",
    "The rotation operation can be shown in matrix form as: \n",
    "$\\left[ {\\matrix{\n",
    "   {\\cos (\\alpha )} & { - \\sin (\\alpha )}  \\cr \n",
    "   {\\sin (\\alpha )} & {\\cos (\\alpha )}  \\cr \n",
    " } } \\right]\\left[ {\\matrix{\n",
    "   x  \\cr \n",
    "   y  \\cr \n",
    " } } \\right] = \\left[ {\\matrix{\n",
    "   {\\cos (\\alpha )x - \\sin (\\alpha )y}  \\cr \n",
    "   {\\sin (\\alpha ) + \\cos (\\alpha )y}  \\cr \n",
    " } } \\right]$\n",
    "\n",
    "The matrix $R = \\left[ {\\matrix{\n",
    "   {\\cos (\\alpha )} & { - \\sin (\\alpha )}  \\cr \n",
    "   {\\sin (\\alpha )} & {\\cos (\\alpha )}  \\cr \n",
    " } } \\right]$\n",
    " is the rotation matrix.\n",
    " \n",
    " In 3D space rotation can be done using following matrix\n",
    " $$\\ {R_x} = \\left[ {\\matrix{\n",
    "   1 & 0 & 0 & 0  \\cr \n",
    "   0 & {\\cos (\\alpha )} & { - \\sin (\\alpha )} & 0  \\cr \n",
    "   0 & {\\sin (\\alpha )} & {\\cos (\\alpha )} & 0  \\cr \n",
    "   0 & 0 & 0 & 1  \\cr \n",
    " } } \\right]$$\n",
    " \n",
    " $$\\ {R_y} = \\left[ {\\matrix{\n",
    "    {\\cos (\\alpha )} & 0 & { - \\sin (\\alpha )} & 0  \\cr \n",
    "   0 & 1 & 0 & 0  \\cr \n",
    "   {\\sin (\\alpha )} & 0 & {\\cos (\\alpha )} & 0  \\cr \n",
    "   0 & 0 & 0 & 1  \\cr \n",
    " } } \\right]$$\n",
    " \n",
    " $$\\ {R_z} = \\left[ {\\matrix{\n",
    "   {\\cos (\\alpha )} & { - \\sin (\\alpha )} & 0 & 0  \\cr \n",
    "   {\\sin (\\alpha )} & {\\cos (\\alpha )} & 0 & 0  \\cr \n",
    "   0 & 0 & 1 & 0  \\cr \n",
    "   0 & 0 & 0 & 1  \\cr \n",
    " } } \\right]$$\n",
    " \n",
    " $$\\ {R} = {R_x}{R_y}{R_z}$$"
   ]
  },
  {
   "cell_type": "code",
   "execution_count": 9,
   "metadata": {},
   "outputs": [
    {
     "data": {
      "application/vnd.jupyter.widget-view+json": {
       "model_id": "fedd392dc4cb4deba81b95700d519900"
      }
     },
     "metadata": {},
     "output_type": "display_data"
    }
   ],
   "source": [
    "def rotate(N, M, angle, points):\n",
    "    N = N.split()\n",
    "    M = M.split()\n",
    "    \n",
    "    N = [float(i) for i in N]\n",
    "    M = [float(i) for i in M]\n",
    "    \n",
    "    A = float(M[0]) - float(N[0])\n",
    "    B = float(M[1]) - float(N[1])\n",
    "    C = float(M[2]) - float(N[2])\n",
    "\n",
    "    L = np.sqrt(A**2 + B**2 + C**2)\n",
    "\n",
    "    V = np.sqrt(B**2 + C**2)\n",
    "    if V == 0:\n",
    "        V = 1\n",
    "\n",
    "    D = np.array([[1.0, 0.0, 0.0, -N[0]], [0.0, 1.0, 0.0, -N[1]], [0.0, 0.0, 1.0, -N[2]], [0.0, 0.0, 0.0, 1.0]])\n",
    "\n",
    "    Rx = np.array([[1.0, 0.0, 0.0, 0.0], [0.0, (C/V), (-B/V), 0.0], [0.0, (B/V), (C/V), 0.0], [0.0, 0.0, 0.0, 1.0]])\n",
    "\n",
    "    Ry = np.array([[(V/L), 0.0, (-A/L), 0.0], [0.0, 1.0, 0.0, 0.0], [(A/L), 0.0, (V/L), 0.0], [0.0, 0.0, 0.0, 1.0]])\n",
    "\n",
    "    angle = angle * np.pi/180\n",
    "    s = np.sin(angle)\n",
    "    c = np.cos(angle)\n",
    "\n",
    "    Rz = np.array([[c, -s, 0.0, 0.0], [s, c, 0.0, 0.0], [0.0, 0.0, 1.0, 0.0], [0.0, 0.0, 0.0, 1.0]])\n",
    "\n",
    "    revRy = np.array([[(V/L), 0.0, (A/L), 0.0], [0.0, 1.0, 0.0, 0.0], [(-A/L), 0.0, (V/L), 0.0], [0.0, 0.0, 0.0, 1.0]])\n",
    "\n",
    "    revRx = np.array([[1.0, 0.0, 0.0, 0.0], [0.0, (C/V), (B/V), 0.0], [0.0, (-B/V), (C/V), 0.0], [0.0, 0.0, 0.0, 1.0]])\n",
    "\n",
    "    revD = np.array([[1.0, 0.0, 0.0, N[0]], [0.0, 1.0, 0.0, N[1]], [0.0, 0.0, 1.0, N[2]], [0.0, 0.0, 0.0, 1.0]])\n",
    "\n",
    "    Mat = revD.dot(revRx)\n",
    "    Mat = Mat.dot(revRy)\n",
    "    Mat = Mat.dot(Rz)\n",
    "    Mat = Mat.dot(Ry)\n",
    "    Mat = Mat.dot(Rx)\n",
    "    Mat = Mat.dot(D)\n",
    "\n",
    "    if B == 0 and C == 0:\n",
    "        Mat = np.array([[1.0, 0.0, 0.0, 0.0], [0.0, c, -s, 0.0], [0.0, s, c, 0.0], [0.0, 0.0, 0.0, 1.0]])\n",
    "\n",
    "    elif A == 0 and C == 0:\n",
    "        Mat = np.array([[c, 0.0, s, 0.0], [0.0, 1.0, 0.0, 0.0], [-s, 0.0, c, 0.0], [0.0, 0.0, 0.0, 1.0]])\n",
    "\n",
    "    elif A == 0 and B == 0:\n",
    "        Mat = np.array([[c, -s, 0.0, 0.0], [s, c, 0.0, 0.0], [0.0, 0.0, 1.0, 0.0], [0.0, 0.0, 0.0, 1.0]])\n",
    "\n",
    "    pointMat = np.array(points)\n",
    "    pointMat = np.transpose(pointMat)\n",
    "\n",
    "    pointMat = Mat.dot(pointMat)\n",
    "    pointMat = np.transpose(pointMat)\n",
    "\n",
    "    return pointMat.tolist()\n",
    "\n",
    "def rotateExample(A, B, angle):\n",
    "    fig1 = plt.figure()\n",
    "    ax1 = fig1.add_subplot(111, aspect='equal')\n",
    "    ax1.set_ylim([-10, 10])\n",
    "    ax1.set_xlim([-10, 10])\n",
    "    \n",
    "    points = [[0, 0, 0, 1], [5, 1, 0, 1], [3, 4, 0, 1]]\n",
    "    points = rotate(A, B, angle, points)\n",
    "    \n",
    "    xpoint = []\n",
    "    ypoint = []\n",
    "    for element in points:\n",
    "        xpoint.append(element[0])\n",
    "        ypoint.append(element[1])\n",
    "    xpoint.append(points[0][0])\n",
    "    ypoint.append(points[0][1])\n",
    "    plt.plot(xpoint, ypoint, linewidth=1)    \n",
    "    plt.gca().set_aspect('equal', adjustable='box')\n",
    "    plt.show()\n",
    "\n",
    "\n",
    "w = interact(rotateExample, A = \"0 0 0\", B = \"0 1 0\", angle = widgets.FloatSlider(value = 0.0, max=360))"
   ]
  },
  {
   "cell_type": "markdown",
   "metadata": {},
   "source": [
    "## Projection\n",
    "In order to be able to display the objects in the real world to the screen, we need to define a process that maps from 3-dimensional coordinate system to a 2-dimensional plane. This process is called projection.\n",
    "\n",
    "### Parallel Projection\n",
    "A parallel projection is a projection of an object in three-dimensional space onto a fixed plane, known as the projection plane or image plane, where the rays, known as lines of sight or projection lines, are parallel to each other.\n",
    "\n",
    "#### Steps to convert a parallel projection volume into canonical view\n",
    "Given the viewing parameters for a parallel projection, i.e, VRP, VPN, VUP, PRP, umin, umax, vmin, vmax, nmin, nmax, \n",
    "find the sequence of transformations which will transform this viewing volume into a standard parallel view volume which is bounded by the planes  x=1 ; x=-1 ; y=1 ; y=-1 ; z=0 ; z=1\n",
    "\n",
    "* Step 1: \tTranslate VRP to origin\n",
    "* Step 2: \tRotate VPN around x until it lies in the xz plane with positive z\n",
    "* Step 3: \tRotate VPN' around y until it aligns with the positive z axis.\n",
    "* Step 4:\tRotate VUP'' around z until it lies in the yz plane with positive y\n",
    "* Step 5: \tShear such that the Direction of Projection (DOP) becomes parallel to the z axis. DOP is defined by connecting center of window to PRP.\n",
    "* Step 6:\tTranslate the Center of Window on the front plane (nmin) to the origin\n",
    "* Step 7:\tScale such that the view volume becomes the canonical parallel view volume which is bounded by the planes  x=1 ; x = -1 ; y=1 ; y = -1 ; z=0 ; z=1\n",
    "\n",
    "** Note: ** after the step 2 the vectors VPN and VUP vectors will change. For convenience they are called VPN' and VUP'. After the Step 3, the vectors VPN' and VUP' will change again and they are called VPN'' and VUP''\n"
   ]
  },
  {
   "cell_type": "markdown",
   "metadata": {},
   "source": [
    "#### Function get_projData\n",
    "This function extracts the View data from camera file and arrange them in list to be used in the projection matrix calculation"
   ]
  },
  {
   "cell_type": "code",
   "execution_count": 10,
   "metadata": {
    "collapsed": true
   },
   "outputs": [],
   "source": [
    "def get_listData(list):\n",
    "    retList = []\n",
    "    length = int(len(list))\n",
    "\n",
    "    for i in range(1, length):\n",
    "        retList.append(float(list[i]))\n",
    "\n",
    "    return retList\n",
    "\n",
    "def get_projData(data):\n",
    "    projData = []\n",
    "    for element in data:           \n",
    "        if element[0] == 'i':\n",
    "            cameraName = element[1]\n",
    "        elif element[0] == 't':\n",
    "            cameraType = element[1]\n",
    "        elif element[0] == 'r':\n",
    "            VRP = get_listData(element)\n",
    "        elif element[0] == 'n':\n",
    "            VPN = get_listData(element)\n",
    "        elif element[0] == 'u':\n",
    "            VUP = get_listData(element)\n",
    "        elif element[0] == 'p':\n",
    "            PRP = get_listData(element)\n",
    "        elif element[0] == 'w':\n",
    "            VRC = get_listData(element)\n",
    "    projData = [cameraName, cameraType, VRP, VPN, VUP, PRP, VRC]\n",
    "    return projData"
   ]
  },
  {
   "cell_type": "markdown",
   "metadata": {},
   "source": [
    "#### Function get_projectedPoints\n",
    "This function creates a parallel projection matrix by using all the steps mentioned earlier"
   ]
  },
  {
   "cell_type": "code",
   "execution_count": 11,
   "metadata": {
    "collapsed": true
   },
   "outputs": [],
   "source": [
    "def get_pllProjMat(projData):\n",
    "    VRP = projData[2]\n",
    "    VRP.append(1)\n",
    "    VPN = projData[3]\n",
    "    VPN.append(1)\n",
    "    VUP = projData[4]\n",
    "    VUP.append(1)\n",
    "    PRP = projData[5]\n",
    "    PRP.append(1)\n",
    "    UVN = projData[6]\n",
    "\n",
    "    VRP = np.array(VRP)\n",
    "    VPN = np.array(VPN)\n",
    "    VUP = np.array(VUP)\n",
    "    PRP = np.array(PRP)\n",
    "\n",
    "    tranVRP_ORJ = np.array([[1.0, 0.0, 0.0, -VRP[0]], [0.0, 1.0, 0.0, -VRP[1]], [0.0, 0.0, 1.0, -VRP[2]], [0.0, 0.0, 0.0, 1.0]])\n",
    "    VRP = np.dot(tranVRP_ORJ, VRP)\n",
    "\n",
    "    hyp = np.sqrt(VPN[1] ** 2 + VPN[2] ** 2)\n",
    "    if hyp == 0:\n",
    "        a = 1\n",
    "        b = 0\n",
    "    else:\n",
    "        a = float(VPN[2] / hyp)\n",
    "        b = float(VPN[1] / hyp)\n",
    "    Rx = np.array([[1.0, 0.0, 0.0, 0.0], [0.0, a, -b, 0.0], [0.0, -b, a, 0.0], [0.0, 0.0, 0.0, 1.0]])\n",
    "    VPN = np.dot(Rx, VPN)\n",
    "    VUP = np.dot(Rx, VUP)\n",
    "\n",
    "    hyp = np.sqrt(VPN[0] ** 2 + VPN[2] ** 2)\n",
    "    if hyp == 0: hyp = 1\n",
    "    a = float(VPN[2] / hyp)\n",
    "    b = float(VPN[0] / hyp)\n",
    "    Ry = np.array([[a, 0.0, -b, 0.0], [0.0, 1.0, 0.0, 0.0], [b, 0.0, a, 0.0], [0.0, 0.0, 0.0, 1.0]])\n",
    "    VPN = np.dot(Ry, VPN)\n",
    "    VUP = np.dot(Ry, VUP)\n",
    "\n",
    "    hyp = np.sqrt(VUP[0] ** 2 + VUP[1] ** 2)\n",
    "    if hyp == 0: hyp = 1\n",
    "    a = float(VUP[1] / hyp)\n",
    "    b = float(VUP[0] / hyp)\n",
    "\n",
    "    Rz = np.array([[a, -b, 0.0, 0.0], [b, a, 0.0, 0.0], [0.0, 0.0, 1.0, 0.0], [0.0, 0.0, 0.0, 1.0]])\n",
    "    VPN = np.dot(Rz, VPN)\n",
    "    VUP = np.dot(Rz, VUP)\n",
    "\n",
    "    #Sheer\n",
    "    a = (-(PRP[0]-((UVN[1]+UVN[0])/2)))/PRP[2]\n",
    "    b = (-(PRP[1]-((UVN[3]+UVN[2])/2)))/PRP[2]\n",
    "\n",
    "    shear = np.array([[1, 0, a, 0], [0, 1, b, 0], [0, 0, 1, 0], [0, 0, 0, 1]])\n",
    "\n",
    "\n",
    "    VRP = np.dot(shear, VRP)\n",
    "    PRP = np.dot(shear, PRP)\n",
    "\n",
    "    a = -(UVN[0]+UVN[1])/2\n",
    "    b = -(UVN[2]+UVN[3])/2\n",
    "    if UVN[5]>UVN[4]:\n",
    "        c = -UVN[4]\n",
    "    else:\n",
    "        c = -UVN[5]\n",
    "\n",
    "    tran2 = np.array([[1, 0, 0, a], [0, 1, 0, b], [0, 0, 1, c], [0, 0, 0, 1]])\n",
    "    VRP = np.dot(tran2, VRP)\n",
    "    PRP = np.dot(tran2, PRP)\n",
    "\n",
    "    #Scale\n",
    "    if UVN[1]>UVN[0]:\n",
    "        a = 2/(UVN[1]-UVN[0])\n",
    "    else:\n",
    "        a = 2/(UVN[0]-UVN[1])\n",
    "\n",
    "    if UVN[3]>UVN[2]:\n",
    "        b = 2/(UVN[3]-UVN[2])\n",
    "    else:\n",
    "        b = 2/(UVN[2]-UVN[3])\n",
    "\n",
    "    if UVN[5]>UVN[4]:\n",
    "        c = 1/(UVN[5]-UVN[4])\n",
    "    else:\n",
    "        c = 1/(UVN[4]-UVN[5])\n",
    "\n",
    "    scale = np.array([[a, 0, 0, 0], [0, b, 0, 0], [0, 0, c, 0], [0, 0, 0, 1]])\n",
    "\n",
    "    projMat = np.dot(Rx, tranVRP_ORJ)\n",
    "\n",
    "    projMat = np.dot(Ry, projMat)\n",
    "    projMat = np.dot(Rz, projMat)\n",
    "    projMat = np.dot(shear, projMat)\n",
    "    projMat = np.dot(tran2, projMat)\n",
    "    projMat = np.dot(scale, projMat)\n",
    "    \n",
    "    return projMat"
   ]
  },
  {
   "cell_type": "markdown",
   "metadata": {},
   "source": [
    "#### Function get_Proj_points\n",
    "This function multiplies the vertex points with the projection matrix to get projected view"
   ]
  },
  {
   "cell_type": "code",
   "execution_count": 12,
   "metadata": {
    "collapsed": true
   },
   "outputs": [],
   "source": [
    "def get_Proj_points(projMat, points):\n",
    "    pointMat = np.array(points)\n",
    "    pointMat = np.transpose(pointMat)\n",
    "\n",
    "    pointMat = projMat.dot(pointMat)\n",
    "    pointMat = np.transpose(pointMat)\n",
    "\n",
    "    return pointMat.tolist()   "
   ]
  },
  {
   "cell_type": "markdown",
   "metadata": {},
   "source": [
    "### Clipping\n",
    "#### Function clip_line_parallel\n",
    "This function if the line is inside the view port if not it clips the line"
   ]
  },
  {
   "cell_type": "code",
   "execution_count": 13,
   "metadata": {
    "collapsed": true
   },
   "outputs": [],
   "source": [
    "    def assign_parallel_outcode(x, y, z):\n",
    "        outcode = 0b000000\n",
    "        if x > 1:\n",
    "            outcode = 0b100000\n",
    "        elif x < -1:\n",
    "            outcode = 0b010000\n",
    "        if y > 1:\n",
    "            outcode = outcode | 0b001000\n",
    "        elif y < -1:\n",
    "            outcode = outcode | 0b000100\n",
    "        if z > 1:\n",
    "            outcode = outcode | 0b000010\n",
    "        elif z < 0:\n",
    "            outcode = outcode | 0b000001\n",
    "        return outcode\n",
    "\n",
    "    def clip_line_parallel(p1, p2):\n",
    "        # This function returns [] if the line is rejected.\n",
    "        x1 = p1[0]\n",
    "        y1 = p1[1]\n",
    "        z1 = p1[2]\n",
    "        x2 = p2[0]\n",
    "        y2 = p2[1]\n",
    "        z2 = p2[2]\n",
    "        RIGHT = 0b100000\n",
    "        LEFT = 0b010000\n",
    "        TOP = 0b001000\n",
    "        BOTTOM = 0b000100\n",
    "        FAR = 0b000010\n",
    "        NEAR = 0b000001\n",
    "        input_point_1_outcode = assign_parallel_outcode(x1, y1, z1);\n",
    "        input_point_2_outcode = assign_parallel_outcode(x2, y2, z2);\n",
    "        while True:\n",
    "            if input_point_1_outcode & input_point_2_outcode:\n",
    "                return []\n",
    "            if not (input_point_1_outcode | input_point_2_outcode):\n",
    "                return [[x1, y1, z1], [x2, y2, z2]]\n",
    "            if input_point_1_outcode:\n",
    "                outcode = input_point_1_outcode\n",
    "            else:\n",
    "                outcode = input_point_2_outcode\n",
    "            if outcode & RIGHT:\n",
    "                # Point is on the right of volume\n",
    "                x = 1\n",
    "                y = (y2 - y1) * (1 - x1) / (x2 - x1) + y1\n",
    "                z = (z2 - z1) * (1 - x1) / (x2 - x1) + z1\n",
    "            elif outcode & LEFT:\n",
    "                # Point is on the left of volume\n",
    "                x = -1\n",
    "                y = (y2 - y1) * (-1 - x1) / (x2 - x1) + y1\n",
    "                z = (z2 - z1) * (-1 - x1) / (x2 - x1) + z1\n",
    "            elif outcode & TOP:\n",
    "                # Point is on above the volume\n",
    "                x = (x2 - x1) * (1 - y1) / (y2 - y1) + x1\n",
    "                y = 1\n",
    "                z = (z2 - z1) * (1 - y1) / (y2 - y1) + z1\n",
    "            elif outcode & BOTTOM:\n",
    "                # Point is below the volume\n",
    "                x = (x2 - x1) * (-1 - y1) / (y2 - y1) + x1\n",
    "                y = -1\n",
    "                z = (z2 - z1) * (-1 - y1) / (y2 - y1) + z1\n",
    "            elif outcode & FAR:\n",
    "                x = (x2 - x1) * (1 - z1) / (z2 - z1) + x1\n",
    "                y = (y2 - y1) * (1 - z1) / (z2 - z1) + y1\n",
    "                z = 1\n",
    "            elif outcode & NEAR:\n",
    "                x = (x2 - x1) * (-z1) / (z2 - z1) + x1\n",
    "                y = (y2 - y1) * (-z1) / (z2 - z1) + y1\n",
    "                z = 0\n",
    "            if outcode == input_point_1_outcode:\n",
    "                x1 = x\n",
    "                y1 = y\n",
    "                z1 = z\n",
    "                input_point_1_outcode = assign_parallel_outcode(x1, y1, z1)\n",
    "            else:\n",
    "                x2 = x\n",
    "                y2 = y\n",
    "                z2 = z\n",
    "                input_point_2_outcode = assign_parallel_outcode(x2, y2, z2)"
   ]
  },
  {
   "cell_type": "markdown",
   "metadata": {},
   "source": [
    "#### Function: translateViewport\n",
    "This function translate the extracted viewport dimensions and convert that dimensions into the actual windows coordinated depending on the width and height of the window."
   ]
  },
  {
   "cell_type": "code",
   "execution_count": 14,
   "metadata": {},
   "outputs": [
    {
     "data": {
      "application/vnd.jupyter.widget-view+json": {
       "model_id": "0cab0192a3db4f8296ad4da0e84db58c"
      }
     },
     "metadata": {},
     "output_type": "display_data"
    }
   ],
   "source": [
    "def translateViewport(xmin, ymin, xmax, ymax, width, height):\n",
    "    a = width\n",
    "    b = height\n",
    "    x = float(xmin)*float(a);\n",
    "    y = float(ymin)*float(b);\n",
    "    width = (float(xmax) - float(xmin))*float(a)\n",
    "    height = (float(ymax) - float(ymin))*float(b)\n",
    "    u = x+width\n",
    "    v = y+height\n",
    "    dimensions = [x, y, u, v]\n",
    "    return dimensions\n",
    "\n",
    "w = interact_manual(translateViewport, xmin = widgets.FloatText(value = 0.1), ymin = widgets.FloatText(value = 0.1), xmax = widgets.FloatText(value = 0.9), ymax = widgets.FloatText(value = 0.9),width = widgets.FloatText(value = 500), height = widgets.FloatText(value = 500))"
   ]
  },
  {
   "cell_type": "markdown",
   "metadata": {},
   "source": [
    "#### Function: translate_points\n",
    "This function takes the entire list of vertex points and retuen it after translating it into windows coodinates"
   ]
  },
  {
   "cell_type": "code",
   "execution_count": 15,
   "metadata": {
    "collapsed": true
   },
   "outputs": [],
   "source": [
    "def translate_points(vertex_list, a, b, h, w):\n",
    "    translated_points = []\n",
    "    vList = np.asarray(vertex_list)\n",
    "    for element in vertex_list:\n",
    "        temp = translate_coordinate(element[0], element[1], a, b, h, w)\n",
    "        translated_points.append(temp)\n",
    "    return(translated_points)"
   ]
  },
  {
   "cell_type": "markdown",
   "metadata": {},
   "source": [
    "#### Function: translate_coordinate\n",
    "##### Mathematics of Mapping Window to Viewport \n",
    "Given: \n",
    "\n",
    "($X_{wmin}, Y_{wmin}$) and ($X_{wmax}, Y_{wmax}$), the coordinates of the two opposite corners of the window.\n",
    "\n",
    "($X_{vmin}, Y_{vmin}$) and ($X_{vmax}, Y_{vmax}$), the coordinates of the two opposite corners of the viewport.  \n",
    "\n",
    "2D world coordinates of point $P = \\left[ {\\matrix{ x  \\cr y  \\cr  } } \\right]$;\n",
    "\n",
    "Find the coordinates of the corresponding point in the viewport $P' = \\left[ {\\matrix{ x'  \\cr y'  \\cr  } } \\right]$.  \n",
    "\n",
    " ** Solution:**\n",
    "* Find the distance between point p and left boundary of window $\\large d_x=(x – X_{wmin})$\n",
    "* Calculate the ratio of the viewport width to the window width $\\large s_x = {{(X_{vmax} - X_{vmin})} \\over {(X_{wmax} - X_{wmin})}}$\n",
    "* Scale  $d_x$  by  $s_x$  to find the distance of point $p’$ from the left boundary of the viewport  $\\large d’_x= d_x s_x$\n",
    "* Add $d’_x$  to $X_{vmin}$ to find the screen x coordinate of the point $p’$ :     $\\large x’= X_{vmin} + d’_x$\n",
    "\n",
    "In a similar manner, you can find $y’$.  But it’s critical to notice that in the screen coordinates, the y-component increases in the downward direction.\n",
    "\n",
    "* Find the distance between point p and **top** boundary of window $\\large d_y=(Y_{wmax}-y)$\n",
    "\n",
    "* Calculate the ratio of the viewport height to the window height $\\large s_y = {{(Y_{vmax} - Y_{vmin})} \\over {(Y_{wmax} - Y_{wmin})}}$      \n",
    "\n",
    "* Scale  $d_y$  by  $s_y$  to find the distance of point $p’$ from the top boundary of the viewport $\\large d’_y= d_y s_y$\n",
    "\n",
    "* Add $d’_y$  to $Y_{vmin}$ to find the screen y coordinate of the point $p’$ : $\\large y’= Y_{vmin} + d’_y$\n",
    "\n",
    "* Creating a matrix in from the given data:\n",
    "\n",
    "$$\\\\ {For\\ changing\\ Y's\\ Sign} = \\left[ {\\matrix{\n",
    "   1 & 0 & 0  \\cr \n",
    "   0 & -1 & 0  \\cr \n",
    "   0 & 0 & 1  \\cr \n",
    " } } \\right]$$\n",
    " \n",
    " $$\\\\ {Adding\\ X_{vmin}\\ and\\ Y_{vmin}} = \\left[ {\\matrix{\n",
    "   1 & 0 & X_{vmin}  \\cr \n",
    "   0 & 1 & Y_{vmin}  \\cr \n",
    "   0 & 0 & 1  \\cr \n",
    " } } \\right]$$\n",
    " \n",
    " $$\\\\ {Multyplying\\ by\\ s_x\\ and\\ s_y} = \\left[ {\\matrix{\n",
    "   s_x & 0 & 0  \\cr \n",
    "   0 & s_y & 0  \\cr \n",
    "   0 & 0 & 1  \\cr \n",
    " } } \\right]$$\n",
    " \n",
    "  $$\\\\ {Adding\\ (s_x\\ *\\ X_{wmin})\\ and\\ (s_y\\ *\\ Y_{wmax})} = \\left[ {\\matrix{\n",
    "   1 & 0 & s_x * X_{wmin}  \\cr \n",
    "   0 & 1 & s_y * Y_{wmax}\\cr \n",
    "   0 & 0 & 1  \\cr \n",
    " } } \\right]$$\n",
    " \n",
    " * Multiply all these matrix together to get a final point translation matrix"
   ]
  },
  {
   "cell_type": "code",
   "execution_count": 16,
   "metadata": {
    "collapsed": true
   },
   "outputs": [],
   "source": [
    "def translate_coordinate(pwx, pwy, a, b, h, w):\n",
    "    pwx = float(pwx)\n",
    "    pwy = float(pwy)\n",
    "\n",
    "    xwmin = float(a[0])\n",
    "    xwmax = float(a[2])\n",
    "    ywmin = float(a[1])\n",
    "    ywmax = float(a[3])\n",
    "    nxvmin = float(b[0])\n",
    "    nxvmax = float(b[2])\n",
    "    nyvmin = float(b[1])\n",
    "    nyvmax = float(b[3])\n",
    "    screen_width = h\n",
    "    screen_height = w\n",
    "\n",
    "    xvmin = float(nxvmin * screen_width)\n",
    "    xvmax = float(nxvmax * screen_width)\n",
    "    yvmin = float(nyvmin * screen_height)\n",
    "    yvmax = float(nyvmax * screen_height)\n",
    "\n",
    "    sx = (xvmax - xvmin) / (xwmax - xwmin)\n",
    "    psx = xvmin + float(sx * (pwx - xwmin))\n",
    "    sy = (yvmax - yvmin) / (ywmax - ywmin)\n",
    "    psy = yvmin + float(sy * (ywmax - pwy))\n",
    "\n",
    "    return [psx, psy]"
   ]
  },
  {
   "cell_type": "markdown",
   "metadata": {},
   "source": [
    "#### Function: getDrawList\n",
    "This function reads the list of edges(connection between points) and then creates a list in form of [x<sub>1</sub>, x<sub>2</sub>] and [y<sub>1</sub>, y<sub>2</sub>]"
   ]
  },
  {
   "cell_type": "code",
   "execution_count": 17,
   "metadata": {
    "collapsed": true
   },
   "outputs": [],
   "source": [
    "def getDrawList(vList, eList, origPoints, window, view, w, h):\n",
    "    dList = []\n",
    "    clip = []\n",
    "    pointA = []\n",
    "    pointB = []\n",
    "    for elements in eList:\n",
    "        for i in range(0, 3):\n",
    "            temp = []\n",
    "            x = int(elements[i]) - 1\n",
    "            if i == 2:\n",
    "                y = int(elements[0]) - 1\n",
    "            else:\n",
    "                y = int(elements[i + 1]) - 1\n",
    "            point1 = vList[x]\n",
    "            point2 = vList[y]\n",
    "            \n",
    "            p1 = origPoints[x]\n",
    "            p2 = origPoints[y]\n",
    "            clip = clip_line_parallel(p1, p2)  \n",
    "\n",
    "            if clip != []:\n",
    "                temp = [[point1[0], point2[0]], [point1[1], point2[1]]]\n",
    "                dList.append(temp)\n",
    "                \n",
    "    return dList"
   ]
  },
  {
   "cell_type": "markdown",
   "metadata": {},
   "source": [
    "#### Function: draw\n",
    "This function draws the boundry of the viewport using the data reurned from translateViewport, also it takes the data from getDrawList and draws the lines using the matplotlib library"
   ]
  },
  {
   "cell_type": "code",
   "execution_count": 18,
   "metadata": {
    "collapsed": true
   },
   "outputs": [],
   "source": [
    "def draw(w, h, vC, dList): \n",
    "    fig1 = plt.figure()\n",
    "    ax1 = fig1.add_subplot(111, aspect='equal')\n",
    "    ax1.set_ylim([0, h])\n",
    "    ax1.set_xlim([0, w])\n",
    "    plt.gca().invert_yaxis()\n",
    "    \n",
    "    ax1.add_patch(\n",
    "    patches.Rectangle(\n",
    "        (vC[0], vC[1]),   # (x,y)\n",
    "        vC[2]-vC[0],          # width\n",
    "        vC[3]-vC[1],          # height\n",
    "        fill=False\n",
    "        )\n",
    "    )\n",
    "    \n",
    "    x = []\n",
    "    y = []\n",
    "    temp = []\n",
    "    for element in dList:\n",
    "        x.append(element[0][0])\n",
    "        x.append(element[0][1])\n",
    "        x.append(None)\n",
    "        y.append(element[1][0])\n",
    "        y.append(element[1][1])\n",
    "        y.append(None)\n",
    "\n",
    "    plt.plot(x,y, linewidth=0.3)    \n",
    "    plt.gca().set_aspect('equal', adjustable='box')\n",
    "    plt.show()    "
   ]
  },
  {
   "cell_type": "markdown",
   "metadata": {},
   "source": [
    "#### Function: Command\n",
    "This function integrate all the above mentioned functiones together to create the final graphic object"
   ]
  },
  {
   "cell_type": "code",
   "execution_count": 22,
   "metadata": {},
   "outputs": [
    {
     "data": {
      "application/vnd.jupyter.widget-view+json": {
       "model_id": "8cd1d513bcd349ecac397660f1389107"
      }
     },
     "metadata": {},
     "output_type": "display_data"
    }
   ],
   "source": [
    "def Command(w, h, filename, tx, ty, tz, scalefactor , scalePoint, A, B, angle):\n",
    "    data = getFiledata(filename)\n",
    "    cam = getFiledata(\"cameras_03.txt\")\n",
    "    vertex = create_vertex_list(data)\n",
    "    edge = create_edge_list(data)\n",
    "    \n",
    "    winDefault = [-1, -1, 1, 1]\n",
    "    view = get_viewport(cam)\n",
    "    window = get_window(cam)\n",
    "    \n",
    "    vpCoordinates = translateViewport(view[0], view[1], view[2], view[3], w, h)\n",
    "    \n",
    "    vertex = translation(tx, ty, tz, vertex)\n",
    "    \n",
    "    scalePoint = scalePoint.split()\n",
    "    vertex = scale(scalefactor, scalefactor, scalefactor, vertex, scalePoint)\n",
    "    \n",
    "    vertex = rotate(A, B, angle, vertex)\n",
    "    \n",
    "    projData = get_projData(cam)\n",
    "    projMat = get_pllProjMat(projData)\n",
    "    vertex = get_Proj_points(projMat, vertex)\n",
    "    \n",
    "    tpoints = translate_points(vertex, winDefault, view, w, h)\n",
    "    \n",
    "    drawList = getDrawList(tpoints, edge, vertex, window, view, w, h)\n",
    "    draw(w, h, vpCoordinates, drawList)\n",
    "    return None\n",
    "\n",
    "w = interact(Command, w = widgets.FloatText(value = 640), h = widgets.FloatText(value = 480), filename = widgets.RadioButtons(options=[\"pyramid_03.txt\", \"cow_03.txt\", \"teapot_03.txt\"]), \n",
    "             tx = widgets.FloatSlider(value = 0.0, max=1.0, min = -1.0), ty = widgets.FloatSlider(value = 0.0, max=1.0, min = -1.0), tz = widgets.FloatSlider(value = 0.0, max=1.0, min = -1.0),\n",
    "             scalefactor = widgets.FloatSlider(value = 1.0, max=5), scalePoint = \"0 0 0\",\n",
    "             A = \"0 0 0\", B = \"0 1 0\", angle = widgets.FloatSlider(value = 0.0, max=360))\n"
   ]
  }
 ],
 "metadata": {
  "kernelspec": {
   "display_name": "Python 3",
   "language": "python",
   "name": "python3"
  },
  "language_info": {
   "codemirror_mode": {
    "name": "ipython",
    "version": 3
   },
   "file_extension": ".py",
   "mimetype": "text/x-python",
   "name": "python",
   "nbconvert_exporter": "python",
   "pygments_lexer": "ipython3",
   "version": "3.6.1"
  }
 },
 "nbformat": 4,
 "nbformat_minor": 2
}
