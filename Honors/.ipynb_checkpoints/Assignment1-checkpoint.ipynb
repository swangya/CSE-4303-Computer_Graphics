{
 "cells": [
  {
   "cell_type": "markdown",
   "metadata": {},
   "source": [
    "# CSE 4303 Computer Graphics\n",
    "\n",
    "## Honors Project\n",
    "\n",
    "### Swangya Saurav\n",
    "\n",
    "## Assignment 1\n",
    "\n",
    "**Task : ** Add a \"Load\" command (button) to Assignment_00 such that the program will be able to read the data from an input file and display the data on the viewport."
   ]
  },
  {
   "cell_type": "markdown",
   "metadata": {},
   "source": [
    "********\n",
    "Importing important libraries"
   ]
  },
  {
   "cell_type": "code",
   "execution_count": 1,
   "metadata": {
    "collapsed": true
   },
   "outputs": [],
   "source": [
    "import ipywidgets as widgets\n",
    "from IPython.display import display\n",
    "from __future__ import print_function\n",
    "from ipywidgets import interact, interactive, fixed, interact_manual\n",
    "\n",
    "import matplotlib.pyplot as plt\n",
    "import matplotlib.patches as patches\n",
    "from matplotlib.patches import Rectangle\n",
    "import numpy as np\n"
   ]
  },
  {
   "cell_type": "code",
   "execution_count": 2,
   "metadata": {
    "collapsed": true
   },
   "outputs": [],
   "source": [
    "#Global Variables\n",
    "global lines\n",
    "lines = []"
   ]
  },
  {
   "cell_type": "code",
   "execution_count": 3,
   "metadata": {
    "collapsed": true
   },
   "outputs": [],
   "source": [
    "def f():    \n",
    "    fig1 = plt.figure()\n",
    "    ax1 = fig1.add_subplot(111, aspect='equal')\n",
    "    ax1.add_patch(\n",
    "    patches.Rectangle(\n",
    "        (10, 10),   # (x,y)\n",
    "        50,          # width\n",
    "        50,          # height\n",
    "        fill=False\n",
    "        )\n",
    "    )\n",
    "    ax1.set_ylim([0, 100])\n",
    "    ax1.set_xlim([0, 100])\n",
    "    plt.show()"
   ]
  },
  {
   "cell_type": "code",
   "execution_count": 4,
   "metadata": {},
   "outputs": [
    {
     "data": {
      "application/vnd.jupyter.widget-view+json": {
       "model_id": "91a97f1f584a40d69cc30d398fc44aa5"
      }
     },
     "metadata": {},
     "output_type": "display_data"
    }
   ],
   "source": [
    "def getFiledata(filename):\n",
    "    a =[]\n",
    "    with open(filename) as textFile:\n",
    "        a = [line.split() for line in textFile]\n",
    "    list = [x for x in a if x != []]\n",
    "    lines = list\n",
    "    return list\n",
    "\n",
    "w = interact_manual(getFiledata, filename = widgets.RadioButtons(options=[\"pyramid.txt\", \"cow.txt\", \"teapot.txt\"]))"
   ]
  },
  {
   "cell_type": "code",
   "execution_count": 10,
   "metadata": {
    "collapsed": true
   },
   "outputs": [],
   "source": [
    "def create_vertex_list(data):\n",
    "    vertex_list = []\n",
    "    for element in data:\n",
    "        if element[0] == 'v':\n",
    "            vertex_list.append([float(element[1]), float(element[2]), float(element[3])])\n",
    "    return vertex_list"
   ]
  },
  {
   "cell_type": "code",
   "execution_count": 19,
   "metadata": {},
   "outputs": [],
   "source": [
    "def create_edge_list(data):\n",
    "    edge_list = []\n",
    "    for element in data:\n",
    "        if element[0] == 'f':\n",
    "            edge_list.append([float(element[1]), float(element[2]), float(element[3])])\n",
    "    return edge_list"
   ]
  },
  {
   "cell_type": "code",
   "execution_count": 21,
   "metadata": {
    "collapsed": true
   },
   "outputs": [],
   "source": [
    "def get_viewport(data):\n",
    "    view_dimension = []\n",
    "    for element in data:\n",
    "        if element[0] == 's':\n",
    "            dimension = element\n",
    "            break\n",
    "    view_dimension = [float(dimension[1]),float(dimension[2]), float(dimension[3]), float(dimension[4])]"
   ]
  },
  {
   "cell_type": "code",
   "execution_count": 22,
   "metadata": {
    "collapsed": true
   },
   "outputs": [],
   "source": [
    "def get_window(data):\n",
    "    for element in data:\n",
    "        if element[0] == 'w':\n",
    "            dimension = element\n",
    "            break\n",
    "    window_dimension = [float(dimension[1]),float(dimension[2]), float(dimension[3]), float(dimension[4])]"
   ]
  },
  {
   "cell_type": "code",
   "execution_count": 24,
   "metadata": {
    "collapsed": true
   },
   "outputs": [],
   "source": [
    "def translateViewport(xmin, ymin, xmax, ymax, width, height):\n",
    "    a = width\n",
    "    b = height\n",
    "    x = float(xmin)*float(a);\n",
    "    y = float(ymin)*float(b);\n",
    "    width = (float(xmax) - float(xmin))*float(a)\n",
    "    height = (float(ymax) - float(ymin))*float(b)\n",
    "    u = x+width\n",
    "    v = y+height\n",
    "    dimensions = [x, y, u, v]\n",
    "    self.viewFrameDimensions = dimensions\n",
    "    return dimensions"
   ]
  },
  {
   "cell_type": "code",
   "execution_count": 35,
   "metadata": {
    "collapsed": true
   },
   "outputs": [],
   "source": [
    "def translate_points(vertex_list):\n",
    "    translated_points = []\n",
    "    for element in vertex_list:\n",
    "        temp = translate_coordinate(element[0], element[1])\n",
    "        translated_points.append(temp)\n",
    "    return(translated_points)"
   ]
  },
  {
   "cell_type": "code",
   "execution_count": 30,
   "metadata": {
    "collapsed": true
   },
   "outputs": [],
   "source": [
    "def translate_coordinate(self, pwx, pwy):\n",
    "    a = self.window_dimension\n",
    "    b = self.view_dimension\n",
    "\n",
    "    pwx = float(pwx)\n",
    "    pwy = float(pwy)\n",
    "\n",
    "    xwmin = float(a[0])\n",
    "    xwmax = float(a[2])\n",
    "    ywmin = float(a[1])\n",
    "    ywmax = float(a[3])\n",
    "    nxvmin = float(b[0])\n",
    "    nxvmax = float(b[2])\n",
    "    nyvmin = float(b[1])\n",
    "    nyvmax = float(b[3])\n",
    "    screen_width = float(self.width)\n",
    "    screen_height = float(self.height)\n",
    "\n",
    "    xvmin = float(nxvmin * screen_width)\n",
    "    xvmax = float(nxvmax * screen_width)\n",
    "    yvmin = float(nyvmin * screen_height)\n",
    "    yvmax = float(nyvmax * screen_height)\n",
    "\n",
    "    sx = (xvmax - xvmin) / (xwmax - xwmin)\n",
    "    psx = xvmin + float(sx * (pwx - xwmin))\n",
    "    sy = (yvmax - yvmin) / (ywmax - ywmin)\n",
    "    psy = yvmin + float(sy * (ywmax - pwy))\n",
    "\n",
    "    return [psx, psy]"
   ]
  },
  {
   "cell_type": "code",
   "execution_count": 36,
   "metadata": {},
   "outputs": [
    {
     "ename": "TypeError",
     "evalue": "translateViewport() missing 6 required positional arguments: 'xmin', 'ymin', 'xmax', 'ymax', 'width', and 'height'",
     "output_type": "error",
     "traceback": [
      "\u001b[1;31m---------------------------------------------------------------------------\u001b[0m",
      "\u001b[1;31mTypeError\u001b[0m                                 Traceback (most recent call last)",
      "\u001b[1;32m<ipython-input-36-79d7192ffaa6>\u001b[0m in \u001b[0;36m<module>\u001b[1;34m()\u001b[0m\n\u001b[0;32m      4\u001b[0m \u001b[0mview\u001b[0m \u001b[1;33m=\u001b[0m \u001b[0mget_viewport\u001b[0m\u001b[1;33m(\u001b[0m\u001b[0mdata\u001b[0m\u001b[1;33m)\u001b[0m\u001b[1;33m\u001b[0m\u001b[0m\n\u001b[0;32m      5\u001b[0m \u001b[0mwindow\u001b[0m \u001b[1;33m=\u001b[0m \u001b[0mget_window\u001b[0m\u001b[1;33m(\u001b[0m\u001b[0mdata\u001b[0m\u001b[1;33m)\u001b[0m\u001b[1;33m\u001b[0m\u001b[0m\n\u001b[1;32m----> 6\u001b[1;33m \u001b[0mvertex\u001b[0m \u001b[1;33m=\u001b[0m \u001b[0mtranslateViewport\u001b[0m\u001b[1;33m(\u001b[0m\u001b[0mvertex\u001b[0m\u001b[1;33m)\u001b[0m\u001b[1;33m\u001b[0m\u001b[0m\n\u001b[0m\u001b[0;32m      7\u001b[0m \u001b[0mprint\u001b[0m\u001b[1;33m(\u001b[0m\u001b[0medge\u001b[0m\u001b[1;33m)\u001b[0m\u001b[1;33m\u001b[0m\u001b[0m\n",
      "\u001b[1;31mTypeError\u001b[0m: translateViewport() missing 6 required positional arguments: 'xmin', 'ymin', 'xmax', 'ymax', 'width', and 'height'"
     ]
    }
   ],
   "source": [
    "data = getFiledata(\"pyramid.txt\")\n",
    "vertex = create_vertex_list(data)\n",
    "edge = create_edge_list(data)\n",
    "view = get_viewport(data)\n",
    "window = get_window(data)\n",
    "vertex = translateViewport(vertex)\n",
    "print(edge)"
   ]
  }
 ],
 "metadata": {
  "kernelspec": {
   "display_name": "Python 3",
   "language": "python",
   "name": "python3"
  },
  "language_info": {
   "codemirror_mode": {
    "name": "ipython",
    "version": 3
   },
   "file_extension": ".py",
   "mimetype": "text/x-python",
   "name": "python",
   "nbconvert_exporter": "python",
   "pygments_lexer": "ipython3",
   "version": "3.6.1"
  }
 },
 "nbformat": 4,
 "nbformat_minor": 2
}
