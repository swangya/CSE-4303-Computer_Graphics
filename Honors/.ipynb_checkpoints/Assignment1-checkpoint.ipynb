{
 "cells": [
  {
   "cell_type": "markdown",
   "metadata": {},
   "source": [
    "# CSE 4303 Computer Graphics\n",
    "\n",
    "## Honors Project\n",
    "\n",
    "### Swangya Saurav\n",
    "\n",
    "## Assignment 1\n",
    "\n",
    "**Task : ** Add a \"Load\" command (button) to Assignment_00 such that the program will be able to read the data from an input file and display the data on the viewport."
   ]
  },
  {
   "cell_type": "markdown",
   "metadata": {},
   "source": [
    "********\n",
    "#### Importing important libraries\n",
    "\n",
    "#### Import File Details\n",
    "* **ipwidgets** - Used for creating dtnamic interaction widgets\n",
    "* **IPython.display** - Used to display widgets\n",
    "* **matplotlib** - Used to plot the graphic object\n",
    "* **numpy** - Used for calculations"
   ]
  },
  {
   "cell_type": "code",
   "execution_count": 16,
   "metadata": {},
   "outputs": [],
   "source": [
    "import ipywidgets as widgets\n",
    "from IPython.display import display\n",
    "from __future__ import print_function\n",
    "from ipywidgets import interact, interactive, fixed, interact_manual\n",
    "\n",
    "import matplotlib.pyplot as plt\n",
    "import matplotlib.patches as patches\n",
    "import matplotlib.lines as mlines\n",
    "\n",
    "from matplotlib.patches import Rectangle\n",
    "import numpy as np\n"
   ]
  },
  {
   "cell_type": "markdown",
   "metadata": {},
   "source": [
    "#### Function: getFiledata\n",
    "This function is used to get the file name the user selected and then extract the data from that file into a python list."
   ]
  },
  {
   "cell_type": "code",
   "execution_count": 2,
   "metadata": {},
   "outputs": [
    {
     "data": {
      "application/vnd.jupyter.widget-view+json": {
       "model_id": "ac40a7309e4d440b8523f42100b9a2e2"
      }
     },
     "metadata": {},
     "output_type": "display_data"
    }
   ],
   "source": [
    "def getFiledata(filename):\n",
    "    a =[]\n",
    "    with open(filename) as textFile:\n",
    "        a = [line.split() for line in textFile]\n",
    "    list = [x for x in a if x != []]\n",
    "    lines = list\n",
    "    return list\n",
    "\n",
    "w = interact_manual(getFiledata, filename = widgets.RadioButtons(options=[\"pyramid.txt\", \"cow.txt\", \"teapot.txt\"]))"
   ]
  },
  {
   "cell_type": "markdown",
   "metadata": {},
   "source": [
    "#### Function: create_vertex_list\n",
    "This function extracts the list of points in the graphic object.\n",
    "it is to be noted that the vertex data in the data set is marked by a 'v' at the start of each line and this function takes advantage of that information"
   ]
  },
  {
   "cell_type": "code",
   "execution_count": 3,
   "metadata": {
    "collapsed": true
   },
   "outputs": [],
   "source": [
    "def create_vertex_list(data):\n",
    "    vertex_list = []\n",
    "    for element in data:\n",
    "        if element[0] == 'v':\n",
    "            vertex_list.append([float(element[1]), float(element[2]), float(element[3])])\n",
    "    return vertex_list"
   ]
  },
  {
   "cell_type": "markdown",
   "metadata": {},
   "source": [
    "#### Function: create_edge_list\n",
    "This function extracts the list of connection between points in the graphic object.\n",
    "it is to be noted that the relation data in the data set is marked by a 'f' at the start of each line and this function takes advantage of that information"
   ]
  },
  {
   "cell_type": "code",
   "execution_count": 4,
   "metadata": {
    "collapsed": true
   },
   "outputs": [],
   "source": [
    "def create_edge_list(data):\n",
    "    edge_list = []\n",
    "    for element in data:\n",
    "        if element[0] == 'f':\n",
    "            edge_list.append([float(element[1]), float(element[2]), float(element[3])])\n",
    "    return edge_list"
   ]
  },
  {
   "cell_type": "markdown",
   "metadata": {},
   "source": [
    "#### Function: get_viewport\n",
    "This function extracts the viewport dimensions\n",
    "it is to be noted that this dimension in the data set is marked by a 's' at the start of each line and this function takes advantage of that information"
   ]
  },
  {
   "cell_type": "code",
   "execution_count": 5,
   "metadata": {
    "collapsed": true
   },
   "outputs": [],
   "source": [
    "def get_viewport(data):\n",
    "    view_dimension = []\n",
    "    for element in data:\n",
    "        if element[0] == 's':\n",
    "            dimension = element\n",
    "            break\n",
    "    view_dimension = [float(dimension[1]),float(dimension[2]), float(dimension[3]), float(dimension[4])]\n",
    "    return view_dimension"
   ]
  },
  {
   "cell_type": "markdown",
   "metadata": {},
   "source": [
    "#### Function: get_viewport\n",
    "This function extracts the windows dimensions\n",
    "it is to be noted that this dimension in the data set is marked by a 'w' at the start of each line and this function takes advantage of that information"
   ]
  },
  {
   "cell_type": "code",
   "execution_count": 6,
   "metadata": {
    "collapsed": true
   },
   "outputs": [],
   "source": [
    "def get_window(data):\n",
    "    for element in data:\n",
    "        if element[0] == 'w':\n",
    "            dimension = element\n",
    "            break\n",
    "    window_dimension = [float(dimension[1]),float(dimension[2]), float(dimension[3]), float(dimension[4])]\n",
    "    return window_dimension"
   ]
  },
  {
   "cell_type": "markdown",
   "metadata": {},
   "source": [
    "#### Function: translateViewport\n",
    "This function translate the extracted viewport dimensions and convert that dimensions into the actual windows coordinated depending on the width and height of the window."
   ]
  },
  {
   "cell_type": "code",
   "execution_count": 21,
   "metadata": {},
   "outputs": [
    {
     "data": {
      "application/vnd.jupyter.widget-view+json": {
       "model_id": "f2ded6da0dec4cd48c26375bc7336772"
      }
     },
     "metadata": {},
     "output_type": "display_data"
    }
   ],
   "source": [
    "def translateViewport(xmin, ymin, xmax, ymax, width, height):\n",
    "    a = width\n",
    "    b = height\n",
    "    x = float(xmin)*float(a);\n",
    "    y = float(ymin)*float(b);\n",
    "    width = (float(xmax) - float(xmin))*float(a)\n",
    "    height = (float(ymax) - float(ymin))*float(b)\n",
    "    u = x+width\n",
    "    v = y+height\n",
    "    dimensions = [x, y, u, v]\n",
    "    return dimensions\n",
    "\n",
    "w = interact_manual(translateViewport, xmin = widgets.FloatText(value = 0.1), ymin = widgets.FloatText(value = 0.1), xmax = widgets.FloatText(value = 0.9), ymax = widgets.FloatText(value = 0.9),width = widgets.FloatText(value = 500), height = widgets.FloatText(value = 500))"
   ]
  },
  {
   "cell_type": "markdown",
   "metadata": {},
   "source": [
    "#### Function: translate_points\n",
    "This function takes the entire list of vertex points and retuen it after translating it into windows coodinates"
   ]
  },
  {
   "cell_type": "code",
   "execution_count": 8,
   "metadata": {
    "collapsed": true
   },
   "outputs": [],
   "source": [
    "def translate_points(vertex_list, a, b, h, w):\n",
    "    translated_points = []\n",
    "    for element in vertex_list:\n",
    "        temp = translate_coordinate(element[0], element[1], a, b, h, w)\n",
    "        translated_points.append(temp)\n",
    "    return(translated_points)"
   ]
  },
  {
   "cell_type": "markdown",
   "metadata": {},
   "source": [
    "#### Function: translate_coordinate\n",
    "##### Mathematics of Mapping Window to Viewport \n",
    "Given: \n",
    "\n",
    "($X_{wmin}, Y_{wmin}$) and ($X_{wmax}, Y_{wmax}$), the coordinates of the two opposite corners of the window.\n",
    "\n",
    "($X_{vmin}, Y_{vmin}$) and ($X_{vmax}, Y_{vmax}$), the coordinates of the two opposite corners of the viewport.  \n",
    "\n",
    "2D world coordinates of point $P = \\left[ {\\matrix{ x  \\cr y  \\cr  } } \\right]$;\n",
    "\n",
    "Find the coordinates of the corresponding point in the viewport $P' = \\left[ {\\matrix{ x'  \\cr y'  \\cr  } } \\right]$.  \n",
    "\n",
    " ** Solution:**\n",
    "* Find the distance between point p and left boundary of window $\\large d_x=(x – X_{wmin})$\n",
    "* Calculate the ratio of the viewport width to the window width $\\large s_x = {{(X_{vmax} - X_{vmin})} \\over {(X_{wmax} - X_{wmin})}}$\n",
    "* Scale  $d_x$  by  $s_x$  to find the distance of point $p’$ from the left boundary of the viewport  $\\large d’_x= d_x s_x$\n",
    "* Add $d’_x$  to $X_{vmin}$ to find the screen x coordinate of the point $p’$ :     $\\large x’= X_{vmin} + d’_x$\n",
    "\n",
    "In a similar manner, you can find $y’$.  But it’s critical to notice that in the screen coordinates, the y-component increases in the downward direction.\n",
    "\n",
    "* Find the distance between point p and **top** boundary of window $\\large d_y=(Y_{wmax}-y)$\n",
    "\n",
    "* Calculate the ratio of the viewport height to the window height $\\large s_y = {{(Y_{vmax} - Y_{vmin})} \\over {(Y_{wmax} - Y_{wmin})}}$      \n",
    "\n",
    "* Scale  $d_y$  by  $s_y$  to find the distance of point $p’$ from the top boundary of the viewport $\\large d’_y= d_y s_y$\n",
    "\n",
    "* Add $d’_y$  to $Y_{vmin}$ to find the screen y coordinate of the point $p’$ : $\\large y’= Y_{vmin} + d’_y$"
   ]
  },
  {
   "cell_type": "code",
   "execution_count": 9,
   "metadata": {
    "collapsed": true
   },
   "outputs": [],
   "source": [
    "def translate_coordinate(pwx, pwy, a, b, h, w):\n",
    "    pwx = float(pwx)\n",
    "    pwy = float(pwy)\n",
    "\n",
    "    xwmin = float(a[0])\n",
    "    xwmax = float(a[2])\n",
    "    ywmin = float(a[1])\n",
    "    ywmax = float(a[3])\n",
    "    nxvmin = float(b[0])\n",
    "    nxvmax = float(b[2])\n",
    "    nyvmin = float(b[1])\n",
    "    nyvmax = float(b[3])\n",
    "    screen_width = h\n",
    "    screen_height = w\n",
    "\n",
    "    xvmin = float(nxvmin * screen_width)\n",
    "    xvmax = float(nxvmax * screen_width)\n",
    "    yvmin = float(nyvmin * screen_height)\n",
    "    yvmax = float(nyvmax * screen_height)\n",
    "\n",
    "    sx = (xvmax - xvmin) / (xwmax - xwmin)\n",
    "    psx = xvmin + float(sx * (pwx - xwmin))\n",
    "    sy = (yvmax - yvmin) / (ywmax - ywmin)\n",
    "    psy = yvmin + float(sy * (ywmax - pwy))\n",
    "\n",
    "    return [psx, psy]"
   ]
  },
  {
   "cell_type": "markdown",
   "metadata": {},
   "source": [
    "#### Function: getDrawList\n",
    "This function reads the list of edges(connection between points) and then creates a list in form of [x<sub>1</sub>, x<sub>2</sub>] and [y<sub>1</sub>, y<sub>2</sub>]"
   ]
  },
  {
   "cell_type": "code",
   "execution_count": 10,
   "metadata": {
    "collapsed": true
   },
   "outputs": [],
   "source": [
    "def getDrawList(vList, eList):\n",
    "    dList = []\n",
    "    for elements in eList:\n",
    "        for i in range(0, 3):\n",
    "            temp = []\n",
    "            x = int(elements[i]) - 1\n",
    "            if i == 2:\n",
    "                y = int(elements[0]) - 1\n",
    "            else:\n",
    "                y = int(elements[i + 1]) - 1\n",
    "            point1 = vList[x]\n",
    "            point2 = vList[y]\n",
    "            \n",
    "            temp = [[point1[0], point2[0]], [point1[1], point2[1]]]\n",
    "            dList.append(temp)\n",
    "    return dList"
   ]
  },
  {
   "cell_type": "markdown",
   "metadata": {},
   "source": [
    "#### Function: draw\n",
    "This function draws the boundry of the viewport using the data reurned from translateViewport, also it takes the data from getDrawList and draws the lines using the matplotlib library"
   ]
  },
  {
   "cell_type": "code",
   "execution_count": 23,
   "metadata": {
    "collapsed": true
   },
   "outputs": [],
   "source": [
    "def draw(w, h, vC, dList): \n",
    "    \n",
    "    fig1 = plt.figure()\n",
    "    ax1 = fig1.add_subplot(111, aspect='equal')\n",
    "    ax1.set_ylim([0, h])\n",
    "    ax1.set_xlim([0, w])\n",
    "    plt.gca().invert_yaxis()\n",
    "    \n",
    "    ax1.add_patch(\n",
    "    patches.Rectangle(\n",
    "        (vC[0], vC[1]),   # (x,y)\n",
    "        vC[2]-vC[0],          # width\n",
    "        vC[3]-vC[1],          # height\n",
    "        fill=False\n",
    "        )\n",
    "    )\n",
    "    for element in dList:\n",
    "        l = mlines.Line2D(element[0], element[1], lw=0.5)\n",
    "        ax1.add_line(l)\n",
    "        \n",
    "    plt.gca().set_aspect('equal', adjustable='box')\n",
    "    plt.show()"
   ]
  },
  {
   "cell_type": "markdown",
   "metadata": {},
   "source": [
    "#### Function: Command\n",
    "This function integrate all the above mentioned functiones together to create the final graphic object"
   ]
  },
  {
   "cell_type": "code",
   "execution_count": 22,
   "metadata": {},
   "outputs": [
    {
     "data": {
      "application/vnd.jupyter.widget-view+json": {
       "model_id": "46db3f785d5c432fa438e69e3f9b112a"
      }
     },
     "metadata": {},
     "output_type": "display_data"
    }
   ],
   "source": [
    "def Command(w, h, filename):\n",
    "    data = getFiledata(filename)\n",
    "    vertex = create_vertex_list(data)\n",
    "    edge = create_edge_list(data)\n",
    "    view = get_viewport(data)\n",
    "    window = get_window(data)\n",
    "    vpCoordinates = translateViewport(view[0], view[1], view[2], view[3], w, h)\n",
    "    tpoints = translate_points(vertex, window, view, w, h)\n",
    "    drawList = getDrawList(tpoints, edge)\n",
    "    draw(w, h, vpCoordinates, drawList)\n",
    "    return 0\n",
    "\n",
    "w = interact_manual(Command, w = widgets.FloatText(value = 100), h = widgets.FloatText(value = 100), filename = widgets.RadioButtons(options=[\"pyramid.txt\", \"cow.txt\", \"teapot.txt\"]))"
   ]
  }
 ],
 "metadata": {
  "kernelspec": {
   "display_name": "Python 3",
   "language": "python",
   "name": "python3"
  },
  "language_info": {
   "codemirror_mode": {
    "name": "ipython",
    "version": 3
   },
   "file_extension": ".py",
   "mimetype": "text/x-python",
   "name": "python",
   "nbconvert_exporter": "python",
   "pygments_lexer": "ipython3",
   "version": "3.6.1"
  }
 },
 "nbformat": 4,
 "nbformat_minor": 2
}
