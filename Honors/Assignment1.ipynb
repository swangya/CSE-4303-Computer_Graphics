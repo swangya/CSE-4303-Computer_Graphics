{
 "cells": [
  {
   "cell_type": "markdown",
   "metadata": {},
   "source": [
    "# CSE 4303 Computer Graphics\n",
    "\n",
    "## Honors Project\n",
    "\n",
    "### Swangya Saurav\n",
    "\n",
    "## Assignment 1\n",
    "\n",
    "**Task : ** Add a \"Load\" command (button) to Assignment_00 such that the program will be able to read the data from an input file and display the data on the viewport."
   ]
  },
  {
   "cell_type": "markdown",
   "metadata": {},
   "source": [
    "********\n",
    "Importing important libraries"
   ]
  },
  {
   "cell_type": "code",
   "execution_count": 1,
   "metadata": {
    "collapsed": true
   },
   "outputs": [],
   "source": [
    "import ipywidgets as widgets\n",
    "from IPython.display import display\n",
    "from __future__ import print_function\n",
    "from ipywidgets import interact, interactive, fixed, interact_manual\n",
    "\n",
    "import matplotlib.pyplot as plt\n",
    "import matplotlib.patches as patches\n",
    "import matplotlib.lines as mlines\n",
    "\n",
    "from matplotlib.patches import Rectangle\n",
    "import numpy as np\n"
   ]
  },
  {
   "cell_type": "code",
   "execution_count": 2,
   "metadata": {
    "collapsed": true
   },
   "outputs": [],
   "source": [
    "#Global Variables\n",
    "global lines\n",
    "lines = []"
   ]
  },
  {
   "cell_type": "code",
   "execution_count": 3,
   "metadata": {
    "collapsed": true
   },
   "outputs": [],
   "source": [
    "def f():    \n",
    "    fig1 = plt.figure()\n",
    "    ax1 = fig1.add_subplot(111, aspect='equal')\n",
    "    ax1.add_patch(\n",
    "    patches.Rectangle(\n",
    "        (10, 10),   # (x,y)\n",
    "        50,          # width\n",
    "        50,          # height\n",
    "        fill=False\n",
    "        )\n",
    "    )\n",
    "    ax1.set_ylim([0, 100])\n",
    "    ax1.set_xlim([0, 100])\n",
    "    plt.show()"
   ]
  },
  {
   "cell_type": "code",
   "execution_count": 4,
   "metadata": {},
   "outputs": [
    {
     "name": "stderr",
     "output_type": "stream",
     "text": [
      "Widget Javascript not detected.  It may not be installed or enabled properly.\n"
     ]
    },
    {
     "data": {
      "application/vnd.jupyter.widget-view+json": {
       "model_id": "0143d0632f464ed283945946ddaf723f"
      }
     },
     "metadata": {},
     "output_type": "display_data"
    }
   ],
   "source": [
    "def getFiledata(filename):\n",
    "    a =[]\n",
    "    with open(filename) as textFile:\n",
    "        a = [line.split() for line in textFile]\n",
    "    list = [x for x in a if x != []]\n",
    "    lines = list\n",
    "    return list\n",
    "\n",
    "w = interact_manual(getFiledata, filename = widgets.RadioButtons(options=[\"pyramid.txt\", \"cow.txt\", \"teapot.txt\"]))"
   ]
  },
  {
   "cell_type": "code",
   "execution_count": 5,
   "metadata": {
    "collapsed": true
   },
   "outputs": [],
   "source": [
    "def create_vertex_list(data):\n",
    "    vertex_list = []\n",
    "    for element in data:\n",
    "        if element[0] == 'v':\n",
    "            vertex_list.append([float(element[1]), float(element[2]), float(element[3])])\n",
    "    return vertex_list"
   ]
  },
  {
   "cell_type": "code",
   "execution_count": 6,
   "metadata": {
    "collapsed": true
   },
   "outputs": [],
   "source": [
    "def create_edge_list(data):\n",
    "    edge_list = []\n",
    "    for element in data:\n",
    "        if element[0] == 'f':\n",
    "            edge_list.append([float(element[1]), float(element[2]), float(element[3])])\n",
    "    return edge_list"
   ]
  },
  {
   "cell_type": "code",
   "execution_count": 7,
   "metadata": {},
   "outputs": [],
   "source": [
    "def get_viewport(data):\n",
    "    view_dimension = []\n",
    "    for element in data:\n",
    "        if element[0] == 's':\n",
    "            dimension = element\n",
    "            break\n",
    "    view_dimension = [float(dimension[1]),float(dimension[2]), float(dimension[3]), float(dimension[4])]\n",
    "    return view_dimension"
   ]
  },
  {
   "cell_type": "code",
   "execution_count": 8,
   "metadata": {
    "collapsed": true
   },
   "outputs": [],
   "source": [
    "def get_window(data):\n",
    "    for element in data:\n",
    "        if element[0] == 'w':\n",
    "            dimension = element\n",
    "            break\n",
    "    window_dimension = [float(dimension[1]),float(dimension[2]), float(dimension[3]), float(dimension[4])]\n",
    "    return window_dimension"
   ]
  },
  {
   "cell_type": "code",
   "execution_count": 9,
   "metadata": {
    "collapsed": true
   },
   "outputs": [],
   "source": [
    "def translateViewport(xmin, ymin, xmax, ymax, width, height):\n",
    "    a = width\n",
    "    b = height\n",
    "    x = float(xmin)*float(a);\n",
    "    y = float(ymin)*float(b);\n",
    "    width = (float(xmax) - float(xmin))*float(a)\n",
    "    height = (float(ymax) - float(ymin))*float(b)\n",
    "    u = x+width\n",
    "    v = y+height\n",
    "    dimensions = [x, y, u, v]\n",
    "    return dimensions"
   ]
  },
  {
   "cell_type": "code",
   "execution_count": 10,
   "metadata": {
    "collapsed": true
   },
   "outputs": [],
   "source": [
    "def translate_points(vertex_list, a, b, h, w):\n",
    "    translated_points = []\n",
    "    for element in vertex_list:\n",
    "        temp = translate_coordinate(element[0], element[1], a, b, h, w)\n",
    "        translated_points.append(temp)\n",
    "    return(translated_points)"
   ]
  },
  {
   "cell_type": "code",
   "execution_count": 11,
   "metadata": {
    "collapsed": true
   },
   "outputs": [],
   "source": [
    "def translate_coordinate(pwx, pwy, a, b, h, w):\n",
    "    pwx = float(pwx)\n",
    "    pwy = float(pwy)\n",
    "\n",
    "    xwmin = float(a[0])\n",
    "    xwmax = float(a[2])\n",
    "    ywmin = float(a[1])\n",
    "    ywmax = float(a[3])\n",
    "    nxvmin = float(b[0])\n",
    "    nxvmax = float(b[2])\n",
    "    nyvmin = float(b[1])\n",
    "    nyvmax = float(b[3])\n",
    "    screen_width = w\n",
    "    screen_height = h\n",
    "\n",
    "    xvmin = float(nxvmin * screen_width)\n",
    "    xvmax = float(nxvmax * screen_width)\n",
    "    yvmin = float(nyvmin * screen_height)\n",
    "    yvmax = float(nyvmax * screen_height)\n",
    "\n",
    "    sx = (xvmax - xvmin) / (xwmax - xwmin)\n",
    "    psx = xvmin + float(sx * (pwx - xwmin))\n",
    "    sy = (yvmax - yvmin) / (ywmax - ywmin)\n",
    "    psy = yvmin + float(sy * (ywmax - pwy))\n",
    "\n",
    "    return [psx, psy]"
   ]
  },
  {
   "cell_type": "code",
   "execution_count": 12,
   "metadata": {
    "collapsed": true
   },
   "outputs": [],
   "source": [
    "def getDrawList(vList, eList):\n",
    "    dList = []\n",
    "    for elements in eList:\n",
    "        for i in range(0, 3):\n",
    "            temp = []\n",
    "            x = int(elements[i]) - 1\n",
    "            if i == 2:\n",
    "                y = int(elements[0]) - 1\n",
    "            else:\n",
    "                y = int(elements[i + 1]) - 1\n",
    "            point1 = vList[x]\n",
    "            point2 = vList[y]\n",
    "            \n",
    "            temp = [[point1[0], point2[0]], [point1[1], point2[1]]]\n",
    "            dList.append(temp)\n",
    "    return dList"
   ]
  },
  {
   "cell_type": "code",
   "execution_count": 17,
   "metadata": {
    "collapsed": true
   },
   "outputs": [],
   "source": [
    "def draw(w, h, vC, dList): \n",
    "    \n",
    "    fig1 = plt.figure()\n",
    "    ax1 = fig1.add_subplot(111, aspect='equal')\n",
    "    ax1.set_ylim([0, h])\n",
    "    ax1.set_xlim([0, w])\n",
    "    plt.gca().invert_yaxis()\n",
    "    \n",
    "    ax1.add_patch(\n",
    "    patches.Rectangle(\n",
    "        (vC[0], vC[1]),   # (x,y)\n",
    "        vC[2]-vC[0],          # width\n",
    "        vC[3]-vC[1],          # height\n",
    "        fill=False\n",
    "        )\n",
    "    )\n",
    "    for element in dList:\n",
    "        l = mlines.Line2D(element[0], element[1], lw=0.5)\n",
    "        ax1.add_line(l)\n",
    "        \n",
    "    plt.gca().set_aspect('equal', adjustable='box')\n",
    "    plt.show()"
   ]
  },
  {
   "cell_type": "code",
   "execution_count": 28,
   "metadata": {},
   "outputs": [
    {
     "data": {
      "application/vnd.jupyter.widget-view+json": {
       "model_id": "7c701bdda9d84fe18a726b94e445a6df"
      }
     },
     "metadata": {},
     "output_type": "display_data"
    }
   ],
   "source": [
    "def drawCommand(w, h, filename):\n",
    "    data = getFiledata(filename)\n",
    "    vertex = create_vertex_list(data)\n",
    "    edge = create_edge_list(data)\n",
    "    view = get_viewport(data)\n",
    "    window = get_window(data)\n",
    "    vpCoordinates = translateViewport(view[0], view[1], view[2], view[3], w, h)\n",
    "    tpoints = translate_points(vertex, window, view, w, h)\n",
    "    drawList = getDrawList(tpoints, edge)\n",
    "    draw(w, h, vpCoordinates, drawList)\n",
    "    return 0\n",
    "\n",
    "w = interact(drawCommand, w = widgets.BoundedFloatText(value = 100), h = widgets.BoundedFloatText(value = 200), filename = widgets.RadioButtons(options=[\"pyramid.txt\", \"cow.txt\", \"teapot.txt\"]))"
   ]
  },
  {
   "cell_type": "code",
   "execution_count": null,
   "metadata": {
    "collapsed": true
   },
   "outputs": [],
   "source": []
  }
 ],
 "metadata": {
  "kernelspec": {
   "display_name": "Python 3",
   "language": "python",
   "name": "python3"
  },
  "language_info": {
   "codemirror_mode": {
    "name": "ipython",
    "version": 3
   },
   "file_extension": ".py",
   "mimetype": "text/x-python",
   "name": "python",
   "nbconvert_exporter": "python",
   "pygments_lexer": "ipython3",
   "version": "3.6.1"
  }
 },
 "nbformat": 4,
 "nbformat_minor": 2
}
